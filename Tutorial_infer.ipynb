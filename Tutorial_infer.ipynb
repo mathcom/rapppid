{
 "cells": [
  {
   "cell_type": "markdown",
   "id": "f8e3436f-5fe1-4551-95f7-fde8a93d5c3c",
   "metadata": {},
   "source": [
    "# Ref: https://github.com/mathcom/rapppid/blob/main/docs/infer.md"
   ]
  },
  {
   "cell_type": "code",
   "execution_count": 1,
   "id": "0f7f6208-9bba-4359-9dad-5e7fdccb5824",
   "metadata": {},
   "outputs": [],
   "source": [
    "import os\n",
    "from rapppid import infer"
   ]
  },
  {
   "cell_type": "markdown",
   "id": "f0530736",
   "metadata": {},
   "source": [
    "# Random Seed"
   ]
  },
  {
   "cell_type": "code",
   "execution_count": 2,
   "id": "81440968-f645-44aa-a235-f5717f444e4a",
   "metadata": {},
   "outputs": [
    {
     "name": "stderr",
     "output_type": "stream",
     "text": [
      "Global seed set to 8675309\n"
     ]
    },
    {
     "data": {
      "text/plain": [
       "8675309"
      ]
     },
     "execution_count": 2,
     "metadata": {},
     "output_type": "execute_result"
    }
   ],
   "source": [
    "seed = 8675309\n",
    "infer.pl_seed.seed_everything(seed, workers=True)"
   ]
  },
  {
   "cell_type": "markdown",
   "id": "2c20f3c2",
   "metadata": {},
   "source": [
    "# Pretrained Model"
   ]
  },
  {
   "cell_type": "code",
   "execution_count": 3,
   "id": "9719309a",
   "metadata": {},
   "outputs": [
    {
     "name": "stdout",
     "output_type": "stream",
     "text": [
      "Applying weight drop of 0.3 to weight_hh_l0\n",
      "Applying weight drop of 0.2 to weight\n",
      "Applying weight drop of 0.2 to weight\n"
     ]
    }
   ],
   "source": [
    "# Path to the RAPPPID chkpt\n",
    "ckpt_path = os.path.join('data', 'pretrained_weights', '1690837077.519848_red-dreamy', '1690837077.519848_red-dreamy.ckpt')\n",
    "model = infer.load_chkpt(ckpt_path)"
   ]
  },
  {
   "cell_type": "markdown",
   "id": "248ea7ea",
   "metadata": {},
   "source": [
    "# Tokenizer"
   ]
  },
  {
   "cell_type": "code",
   "execution_count": 4,
   "id": "021bdb57",
   "metadata": {},
   "outputs": [],
   "source": [
    "# Path to the SentencePiece Model\n",
    "model_file = os.path.join('data', 'pretrained_weights', '1690837077.519848_red-dreamy', 'spm.model')\n",
    "spp = infer.sp.SentencePieceProcessor(model_file=model_file)"
   ]
  },
  {
   "cell_type": "markdown",
   "id": "d031c1cb",
   "metadata": {},
   "source": [
    "# Example"
   ]
  },
  {
   "cell_type": "code",
   "execution_count": 5,
   "id": "6f09ff23",
   "metadata": {},
   "outputs": [],
   "source": [
    "seqs = [\n",
    "    'LVYTDCTESGQNLCLCEGSNVCGQGNKCILGSDGEKNQCVTGEGTPKPQSHNDGDFEEIPEEYLQ',\n",
    "    'QVQLKQSGPGLVQPSQSLSITCTVSGFSLTNYGVHWVRQSPGKGLEWLGVIWSGGNTDYNTPFTSRLSINKDNSKSQVFFKMNSLQSNDTAIYYCARALTYYDYEFAYWGQGTLVTVSAASTKGPSVFPLAPSSKSTSGGTAALGCLVKDYFPEPVTVSWNSGALTSGVHTFPAVLQSSGLYSLSSVVTVPSSSLGTQTYICNVNHKPSNTKVDKRVEPKSPKSCDKTHTCPPCPAPELLGGP'\n",
    "]"
   ]
  },
  {
   "cell_type": "code",
   "execution_count": 6,
   "id": "fc41bbf2",
   "metadata": {},
   "outputs": [],
   "source": [
    "toks = infer.process_seqs(spp, seqs, 1500)"
   ]
  },
  {
   "cell_type": "code",
   "execution_count": 7,
   "id": "22d0373b",
   "metadata": {},
   "outputs": [
    {
     "data": {
      "text/plain": [
       "torch.Size([2, 1500])"
      ]
     },
     "execution_count": 7,
     "metadata": {},
     "output_type": "execute_result"
    }
   ],
   "source": [
    "toks.shape"
   ]
  },
  {
   "cell_type": "code",
   "execution_count": 8,
   "id": "ce184480",
   "metadata": {},
   "outputs": [],
   "source": [
    "out = infer.get_embeddings(model, toks)"
   ]
  },
  {
   "cell_type": "code",
   "execution_count": 9,
   "id": "5838e931",
   "metadata": {},
   "outputs": [],
   "source": [
    "embedding_one = out[0].unsqueeze(0)\n",
    "embedding_two = out[1].unsqueeze(0)"
   ]
  },
  {
   "cell_type": "code",
   "execution_count": 10,
   "id": "d8bdbb88",
   "metadata": {},
   "outputs": [
    {
     "name": "stdout",
     "output_type": "stream",
     "text": [
      "0.07035128772258759\n"
     ]
    }
   ],
   "source": [
    "prob = infer.predict(model, embedding_one, embedding_two).item()\n",
    "print(prob)"
   ]
  },
  {
   "cell_type": "code",
   "execution_count": null,
   "id": "44f4f0fe",
   "metadata": {},
   "outputs": [],
   "source": []
  }
 ],
 "metadata": {
  "kernelspec": {
   "display_name": "Python 3 (ipykernel)",
   "language": "python",
   "name": "python3"
  },
  "language_info": {
   "codemirror_mode": {
    "name": "ipython",
    "version": 3
   },
   "file_extension": ".py",
   "mimetype": "text/x-python",
   "name": "python",
   "nbconvert_exporter": "python",
   "pygments_lexer": "ipython3",
   "version": "3.8.19"
  }
 },
 "nbformat": 4,
 "nbformat_minor": 5
}
